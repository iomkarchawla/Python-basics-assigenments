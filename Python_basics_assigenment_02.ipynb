{
  "nbformat": 4,
  "nbformat_minor": 0,
  "metadata": {
    "colab": {
      "provenance": [],
      "collapsed_sections": []
    },
    "kernelspec": {
      "name": "python3",
      "display_name": "Python 3"
    },
    "language_info": {
      "name": "python"
    }
  },
  "cells": [
    {
      "cell_type": "code",
      "source": [
        "Ans1"
      ],
      "metadata": {
        "id": "2IVW9BDvePIO"
      },
      "execution_count": null,
      "outputs": []
    },
    {
      "cell_type": "markdown",
      "source": [],
      "metadata": {
        "id": "XLoS3gCIeORb"
      }
    },
    {
      "cell_type": "code",
      "execution_count": null,
      "metadata": {
        "colab": {
          "base_uri": "https://localhost:8080/"
        },
        "id": "hGuNiinka3Et",
        "outputId": "84e013dd-e96f-4184-a0af-645a9672ae51"
      },
      "outputs": [
        {
          "output_type": "stream",
          "name": "stdout",
          "text": [
            "77\n"
          ]
        }
      ],
      "source": [
        "#True\n",
        "#False \n",
        "##these are two differrent values which can used with logical or relation operators output\n",
        "a = 77\n",
        "b =60\n",
        "if a > b:\n",
        "  print(a)"
      ]
    },
    {
      "cell_type": "markdown",
      "source": [
        "Ans2"
      ],
      "metadata": {
        "id": "lrUO8lhAeRip"
      }
    },
    {
      "cell_type": "code",
      "source": [
        "# and ,or & not"
      ],
      "metadata": {
        "id": "FYQNAL6ObmIS"
      },
      "execution_count": null,
      "outputs": []
    },
    {
      "cell_type": "markdown",
      "source": [
        "Ans3"
      ],
      "metadata": {
        "id": "aTjbLVYUeYgx"
      }
    },
    {
      "cell_type": "code",
      "source": [
        "#0 1\n",
        "#1 0\n",
        "#0 0\n",
        "#1 1"
      ],
      "metadata": {
        "id": "8srSYSGqe9yb"
      },
      "execution_count": null,
      "outputs": []
    },
    {
      "cell_type": "markdown",
      "source": [
        "Ans 4"
      ],
      "metadata": {
        "id": "g4BYPNiogJOY"
      }
    },
    {
      "cell_type": "code",
      "source": [
        "#(5 > 4) and (3 == 5) = False because both the conditions are not getting satisfied\n",
        "#not(5>4) = False is because not is making statement incorrect.\n",
        "##(5 > 4) or (3 == 5) = True Because one of the condition is satisfying.\n",
        "#not((5 > 4) or (3 == 5) ) = True Because here one condition is True .\n",
        "#(True and True) and (True == False) invalid statement\n",
        "#(not false) or (not true) = False"
      ],
      "metadata": {
        "id": "1qfOZ6AWdFWJ"
      },
      "execution_count": null,
      "outputs": []
    },
    {
      "cell_type": "markdown",
      "source": [
        "Ans5"
      ],
      "metadata": {
        "id": "6g3eyyVqhTBH"
      }
    },
    {
      "cell_type": "code",
      "source": [
        "# (>,<,<= ,>=,== ,!=)"
      ],
      "metadata": {
        "id": "KkUpUpLMgHxg"
      },
      "execution_count": null,
      "outputs": []
    },
    {
      "cell_type": "markdown",
      "source": [
        "Ans 6"
      ],
      "metadata": {
        "id": "bgJcOFAghU9v"
      }
    },
    {
      "cell_type": "code",
      "source": [
        "#Equalto is denoted with Symbol (==) while assigenment operator is use to assigen value denoted with (=) one is use to assign value other is to check and compare"
      ],
      "metadata": {
        "id": "_TZg-i2ShWdA"
      },
      "execution_count": null,
      "outputs": []
    },
    {
      "cell_type": "code",
      "source": [
        "a=10\n",
        "b=20"
      ],
      "metadata": {
        "id": "0Fx0ed-YhWIR"
      },
      "execution_count": null,
      "outputs": []
    },
    {
      "cell_type": "code",
      "source": [
        "b"
      ],
      "metadata": {
        "colab": {
          "base_uri": "https://localhost:8080/"
        },
        "id": "7Nup4xiTiuVo",
        "outputId": "dcd2eef1-c7c7-4746-d0c3-5212711636cf"
      },
      "execution_count": null,
      "outputs": [
        {
          "output_type": "execute_result",
          "data": {
            "text/plain": [
              "20"
            ]
          },
          "metadata": {},
          "execution_count": 9
        }
      ]
    },
    {
      "cell_type": "code",
      "source": [
        "a==b"
      ],
      "metadata": {
        "colab": {
          "base_uri": "https://localhost:8080/"
        },
        "id": "z1C6Bs63isLi",
        "outputId": "a242af51-f47e-45be-cbcc-b613e9bb1403"
      },
      "execution_count": null,
      "outputs": [
        {
          "output_type": "execute_result",
          "data": {
            "text/plain": [
              "False"
            ]
          },
          "metadata": {},
          "execution_count": 10
        }
      ]
    },
    {
      "cell_type": "code",
      "source": [
        "b"
      ],
      "metadata": {
        "colab": {
          "base_uri": "https://localhost:8080/"
        },
        "id": "8AJ7RPSDittR",
        "outputId": "d72839e5-3af2-48d0-b642-7612ca6729b1"
      },
      "execution_count": null,
      "outputs": [
        {
          "output_type": "execute_result",
          "data": {
            "text/plain": [
              "20"
            ]
          },
          "metadata": {},
          "execution_count": 11
        }
      ]
    },
    {
      "cell_type": "markdown",
      "source": [
        "ans7"
      ],
      "metadata": {
        "id": "cDIR1g8blAxh"
      }
    },
    {
      "cell_type": "code",
      "source": [
        "spam = 0 #spam value need to be 10\n",
        "if spam == 10:\n",
        "  print('eggs')\n",
        "if spam > 5: # elif is used to check the second situatuion in same loop\n",
        "  print('bacon')\n",
        "else:\n",
        "  print('ham')\n",
        "  print('spam')\n",
        "  print('spam') # block\n",
        "  "
      ],
      "metadata": {
        "colab": {
          "base_uri": "https://localhost:8080/"
        },
        "id": "0CWN6hfEivsn",
        "outputId": "b8282598-3bf7-48c4-e4a7-cf83b56f176e"
      },
      "execution_count": null,
      "outputs": [
        {
          "output_type": "stream",
          "name": "stdout",
          "text": [
            "ham\n",
            "spam\n",
            "spam\n"
          ]
        }
      ]
    },
    {
      "cell_type": "markdown",
      "source": [
        "ans8"
      ],
      "metadata": {
        "id": "ocUnDknOk-yX"
      }
    },
    {
      "cell_type": "code",
      "source": [
        "spam = int(input())\n",
        "if spam == 1:\n",
        "  print(\"hello\")\n",
        "elif spam > 1 and spam == 2:\n",
        "  print(\"howdy\")\n",
        "else:\n",
        "  print(\"hi\")"
      ],
      "metadata": {
        "colab": {
          "base_uri": "https://localhost:8080/"
        },
        "id": "Twd2708tk-Ko",
        "outputId": "d71a6099-8236-40f8-fbb4-b0d22b365826"
      },
      "execution_count": null,
      "outputs": [
        {
          "output_type": "stream",
          "name": "stdout",
          "text": [
            "3\n",
            "hi\n"
          ]
        }
      ]
    },
    {
      "cell_type": "markdown",
      "source": [
        "ans9"
      ],
      "metadata": {
        "id": "9yt8GXESoOi1"
      }
    },
    {
      "cell_type": "code",
      "source": [
        "#CTRL + C"
      ],
      "metadata": {
        "id": "ZVzuy4WpnEmP"
      },
      "execution_count": null,
      "outputs": []
    },
    {
      "cell_type": "markdown",
      "source": [
        "ans 10"
      ],
      "metadata": {
        "id": "RCUdlDtYoXlG"
      }
    },
    {
      "cell_type": "code",
      "source": [
        "# The break statement terminates the whole iteration of a loop whereas continue skips the current iteration"
      ],
      "metadata": {
        "id": "LepX3uurruL9"
      },
      "execution_count": null,
      "outputs": []
    },
    {
      "cell_type": "markdown",
      "source": [
        "ans11"
      ],
      "metadata": {
        "id": "nCO_fnMcrsZW"
      }
    },
    {
      "cell_type": "code",
      "source": [
        "for i in range (10):\n",
        "  print(i)"
      ],
      "metadata": {
        "id": "QSQia3H6ocWH",
        "colab": {
          "base_uri": "https://localhost:8080/"
        },
        "outputId": "6b1fff16-2e5a-4bd1-9a31-ddf0a49df589"
      },
      "execution_count": 24,
      "outputs": [
        {
          "output_type": "stream",
          "name": "stdout",
          "text": [
            "0\n",
            "1\n",
            "2\n",
            "3\n",
            "4\n",
            "5\n",
            "6\n",
            "7\n",
            "8\n",
            "9\n"
          ]
        }
      ]
    },
    {
      "cell_type": "code",
      "source": [
        "for i in range (0,10):\n",
        "  print(i)"
      ],
      "metadata": {
        "colab": {
          "base_uri": "https://localhost:8080/"
        },
        "id": "u-C-EVLOr-me",
        "outputId": "0652aa49-2c4c-46b9-b148-163b245bdbd1"
      },
      "execution_count": 25,
      "outputs": [
        {
          "output_type": "stream",
          "name": "stdout",
          "text": [
            "0\n",
            "1\n",
            "2\n",
            "3\n",
            "4\n",
            "5\n",
            "6\n",
            "7\n",
            "8\n",
            "9\n"
          ]
        }
      ]
    },
    {
      "cell_type": "code",
      "source": [
        "for i in range (0,10,1):\n",
        "  print(i)"
      ],
      "metadata": {
        "colab": {
          "base_uri": "https://localhost:8080/"
        },
        "id": "Niwd18ybsCOV",
        "outputId": "c22f1e28-5605-436e-a978-a87a1c778259"
      },
      "execution_count": 26,
      "outputs": [
        {
          "output_type": "stream",
          "name": "stdout",
          "text": [
            "0\n",
            "1\n",
            "2\n",
            "3\n",
            "4\n",
            "5\n",
            "6\n",
            "7\n",
            "8\n",
            "9\n"
          ]
        }
      ]
    },
    {
      "cell_type": "code",
      "source": [
        "#all three statements are same but in third we are giving the direction or jump"
      ],
      "metadata": {
        "id": "QkcjoNRjsKKE"
      },
      "execution_count": null,
      "outputs": []
    },
    {
      "cell_type": "markdown",
      "source": [
        "ans11\n"
      ],
      "metadata": {
        "id": "OPfHJ7Mcu8oj"
      }
    },
    {
      "cell_type": "code",
      "source": [
        "for i in range (0,10):\n",
        "    i = i+1\n",
        "    print(i)\n"
      ],
      "metadata": {
        "colab": {
          "base_uri": "https://localhost:8080/"
        },
        "id": "-ElVWFcyvGjj",
        "outputId": "8454354e-d9dd-4296-8294-b721b5f60a9d"
      },
      "execution_count": 30,
      "outputs": [
        {
          "output_type": "stream",
          "name": "stdout",
          "text": [
            "1\n",
            "2\n",
            "3\n",
            "4\n",
            "5\n",
            "6\n",
            "7\n",
            "8\n",
            "9\n",
            "10\n"
          ]
        }
      ]
    },
    {
      "cell_type": "code",
      "source": [
        "i = 0\n",
        "while i in range(0,10):\n",
        "   i = i+1\n",
        "   print(i)\n",
        "   "
      ],
      "metadata": {
        "colab": {
          "base_uri": "https://localhost:8080/"
        },
        "id": "h5wvOYS5vP6d",
        "outputId": "4b90e525-9e20-4ee8-92a9-04a8d5e7f75d"
      },
      "execution_count": 39,
      "outputs": [
        {
          "output_type": "stream",
          "name": "stdout",
          "text": [
            "1\n",
            "2\n",
            "3\n",
            "4\n",
            "5\n",
            "6\n",
            "7\n",
            "8\n",
            "9\n",
            "10\n"
          ]
        }
      ]
    },
    {
      "cell_type": "markdown",
      "source": [],
      "metadata": {
        "id": "qVJFx7Thv9dL"
      }
    },
    {
      "cell_type": "markdown",
      "source": [
        "ans13"
      ],
      "metadata": {
        "id": "tYuMnlYkxSqi"
      }
    },
    {
      "cell_type": "code",
      "source": [
        "#This function can be called with spam.bacon()."
      ],
      "metadata": {
        "id": "Y2ed5fB3vkL7"
      },
      "execution_count": null,
      "outputs": []
    }
  ]
}