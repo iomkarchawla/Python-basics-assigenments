{
  "nbformat": 4,
  "nbformat_minor": 0,
  "metadata": {
    "colab": {
      "provenance": []
    },
    "kernelspec": {
      "name": "python3",
      "display_name": "Python 3"
    },
    "language_info": {
      "name": "python"
    }
  },
  "cells": [
    {
      "cell_type": "markdown",
      "source": [
        "1. What does an empty dictionary&#39;s code look like?"
      ],
      "metadata": {
        "id": "RdUOr5wVd7tR"
      }
    },
    {
      "cell_type": "code",
      "execution_count": 1,
      "metadata": {
        "colab": {
          "base_uri": "https://localhost:8080/"
        },
        "id": "0QH2TEl-d6AV",
        "outputId": "e70174e5-c25f-476a-beba-4e07569a4e02"
      },
      "outputs": [
        {
          "output_type": "execute_result",
          "data": {
            "text/plain": [
              "[]"
            ]
          },
          "metadata": {},
          "execution_count": 1
        }
      ],
      "source": [
        "{}"
      ]
    },
    {
      "cell_type": "markdown",
      "source": [
        "2. What is the value of a dictionary value with the key &#39;foo&#39; and the value 42?"
      ],
      "metadata": {
        "id": "23VKpwYOeD32"
      }
    },
    {
      "cell_type": "code",
      "source": [
        "a= {\"foo\" : 42}"
      ],
      "metadata": {
        "id": "NX1XK6cqeDC_"
      },
      "execution_count": 3,
      "outputs": []
    },
    {
      "cell_type": "code",
      "source": [
        "a.values()"
      ],
      "metadata": {
        "colab": {
          "base_uri": "https://localhost:8080/"
        },
        "id": "E8WL-9EgeiW3",
        "outputId": "5217d84e-e365-4ce7-af8a-b06b3d2ae009"
      },
      "execution_count": 4,
      "outputs": [
        {
          "output_type": "execute_result",
          "data": {
            "text/plain": [
              "dict_values([42])"
            ]
          },
          "metadata": {},
          "execution_count": 4
        }
      ]
    },
    {
      "cell_type": "markdown",
      "source": [
        "3. What is the most significant distinction between a dictionary and a list?"
      ],
      "metadata": {
        "id": "PodG-KFge0Qe"
      }
    },
    {
      "cell_type": "code",
      "source": [
        "#both are mutable Both Contains all type of variables , difference is dictionary can containg and can peform slicing with a specific key and value pair format"
      ],
      "metadata": {
        "id": "EZGrFB9NeorO"
      },
      "execution_count": null,
      "outputs": []
    },
    {
      "cell_type": "markdown",
      "source": [
        "4. What happens if you try to access spam[&#39;foo&#39;] if spam is {&#39;bar&#39;: 100}?\n"
      ],
      "metadata": {
        "id": "lJLS0KkNfKe3"
      }
    },
    {
      "cell_type": "code",
      "source": [
        "spam = {'bar': 100}"
      ],
      "metadata": {
        "id": "O1iTVu_HfVJo"
      },
      "execution_count": 5,
      "outputs": []
    },
    {
      "cell_type": "code",
      "source": [
        "spam[\"foo\"] #showng error if we add a specific key with it it simply add"
      ],
      "metadata": {
        "colab": {
          "base_uri": "https://localhost:8080/",
          "height": 165
        },
        "id": "dzt_5FhUfZBc",
        "outputId": "f2275f56-0080-4c2d-ac15-ee01ba01f539"
      },
      "execution_count": 7,
      "outputs": [
        {
          "output_type": "error",
          "ename": "KeyError",
          "evalue": "ignored",
          "traceback": [
            "\u001b[0;31m---------------------------------------------------------------------------\u001b[0m",
            "\u001b[0;31mKeyError\u001b[0m                                  Traceback (most recent call last)",
            "\u001b[0;32m<ipython-input-7-eb1d0efbede1>\u001b[0m in \u001b[0;36m<cell line: 1>\u001b[0;34m()\u001b[0m\n\u001b[0;32m----> 1\u001b[0;31m \u001b[0mspam\u001b[0m\u001b[0;34m[\u001b[0m\u001b[0;34m\"foo\"\u001b[0m\u001b[0;34m]\u001b[0m\u001b[0;34m\u001b[0m\u001b[0;34m\u001b[0m\u001b[0m\n\u001b[0m",
            "\u001b[0;31mKeyError\u001b[0m: 'foo'"
          ]
        }
      ]
    },
    {
      "cell_type": "code",
      "source": [
        "a = {\"Aaaaaaaaaa \":22 , \"sss\" :{133:333}}"
      ],
      "metadata": {
        "id": "gmXjrx6ufyRv"
      },
      "execution_count": 29,
      "outputs": []
    },
    {
      "cell_type": "code",
      "source": [
        "b = {111:222}"
      ],
      "metadata": {
        "id": "tvNV1iylgZi_"
      },
      "execution_count": 31,
      "outputs": []
    },
    {
      "cell_type": "code",
      "source": [
        "a.update(b)"
      ],
      "metadata": {
        "id": "ZMLLs_iygaqf"
      },
      "execution_count": 34,
      "outputs": []
    },
    {
      "cell_type": "code",
      "source": [
        "a"
      ],
      "metadata": {
        "colab": {
          "base_uri": "https://localhost:8080/"
        },
        "id": "HtggNLgjinNn",
        "outputId": "e0b54177-5606-4bc9-fda2-28aa51696151"
      },
      "execution_count": 35,
      "outputs": [
        {
          "output_type": "execute_result",
          "data": {
            "text/plain": [
              "{'Aaaaaaaaaa ': 22, 'sss': {133: 333}, 111: 222}"
            ]
          },
          "metadata": {},
          "execution_count": 35
        }
      ]
    },
    {
      "cell_type": "markdown",
      "source": [
        "If a dictionary is stored in spam, what is the difference between the expressions &#39;cat&#39; in spam and\n",
        "&#39;cat&#39; in spam.keys()?"
      ],
      "metadata": {
        "id": "O1oQu6Z-i5zm"
      }
    },
    {
      "cell_type": "code",
      "source": [
        "spam = {\"cat\":133 , 11:\"cat\" , \"cat\":{\"cat\":111}} #as a key its value is changed in internal memory block due to uniqueness of the key"
      ],
      "metadata": {
        "id": "J8Ig7kk5in6H"
      },
      "execution_count": 48,
      "outputs": []
    },
    {
      "cell_type": "code",
      "source": [
        "spam.keys()#cat in spam is same it only check weather its presented as a key or not"
      ],
      "metadata": {
        "colab": {
          "base_uri": "https://localhost:8080/"
        },
        "id": "G8kcaly5jdt4",
        "outputId": "df23e728-965d-4b72-8e7f-8229b7f2ec33"
      },
      "execution_count": 52,
      "outputs": [
        {
          "output_type": "execute_result",
          "data": {
            "text/plain": [
              "dict_keys(['cat', 11])"
            ]
          },
          "metadata": {},
          "execution_count": 52
        }
      ]
    },
    {
      "cell_type": "code",
      "source": [
        "spam[\"cat\"][\"cat\"]"
      ],
      "metadata": {
        "colab": {
          "base_uri": "https://localhost:8080/"
        },
        "id": "Wc_c7G6em8zI",
        "outputId": "91c034e0-8f3d-459b-a46a-b2e1523ba63d"
      },
      "execution_count": 54,
      "outputs": [
        {
          "output_type": "execute_result",
          "data": {
            "text/plain": [
              "111"
            ]
          },
          "metadata": {},
          "execution_count": 54
        }
      ]
    },
    {
      "cell_type": "code",
      "source": [
        "spam.fromkeys()"
      ],
      "metadata": {
        "id": "3otQ_-yuk_QI"
      },
      "execution_count": null,
      "outputs": []
    },
    {
      "cell_type": "markdown",
      "source": [
        "If a dictionary is stored in spam, what is the difference between the expressions &#39;cat&#39; in spam and\n",
        "&#39;cat&#39; in spam.values()?"
      ],
      "metadata": {
        "id": "PYQRje3vnJ4b"
      }
    },
    {
      "cell_type": "code",
      "source": [
        "spam = {\"cat\":133 , 11:\"cat\" , \"cat\":{\"cat\":111}} #as a value its value is not changed in internal memory block because values can be same"
      ],
      "metadata": {
        "id": "CnEvDzIqnKqB"
      },
      "execution_count": 57,
      "outputs": []
    },
    {
      "cell_type": "markdown",
      "source": [
        "7. What is a shortcut for the following code?\n",
        "if &#39;color&#39; not in spam:\n",
        "spam[&#39;color&#39;] = &#39;black&#39;"
      ],
      "metadata": {
        "id": "4waKdZrUnn06"
      }
    },
    {
      "cell_type": "code",
      "source": [
        "spam = {\"caat\":133 , 11:\"cat\" , \"cat\":{\"cat\":111}}"
      ],
      "metadata": {
        "id": "ovCRQ1HXnk9i"
      },
      "execution_count": 59,
      "outputs": []
    },
    {
      "cell_type": "code",
      "source": [
        "spam"
      ],
      "metadata": {
        "colab": {
          "base_uri": "https://localhost:8080/"
        },
        "id": "5UMVZmVInx1a",
        "outputId": "9c2aefc8-b344-4d2d-b7c1-7157aa4b2c20"
      },
      "execution_count": 60,
      "outputs": [
        {
          "output_type": "execute_result",
          "data": {
            "text/plain": [
              "{'caat': 133, 11: 'cat', 'cat': {'cat': 111}}"
            ]
          },
          "metadata": {},
          "execution_count": 60
        }
      ]
    },
    {
      "cell_type": "code",
      "source": [
        "spam[\"color\"] =\"black\" #it simply add as a new key value pair in existing dict at last place shortcut of update"
      ],
      "metadata": {
        "id": "G2_JTPyLn_Go"
      },
      "execution_count": 63,
      "outputs": []
    },
    {
      "cell_type": "code",
      "source": [
        "spam"
      ],
      "metadata": {
        "colab": {
          "base_uri": "https://localhost:8080/"
        },
        "id": "U2meTp84oIxq",
        "outputId": "8473e57e-51c3-460e-b91b-3d3af7c9cf87"
      },
      "execution_count": 64,
      "outputs": [
        {
          "output_type": "execute_result",
          "data": {
            "text/plain": [
              "{'caat': 133, 11: 'cat', 'cat': {'cat': 111}, 'color': 'black'}"
            ]
          },
          "metadata": {},
          "execution_count": 64
        }
      ]
    },
    {
      "cell_type": "markdown",
      "source": [
        "How do you &quot;pretty print&quot; dictionary values using which module and function?"
      ],
      "metadata": {
        "id": "G8_71C0cpBbb"
      }
    },
    {
      "cell_type": "code",
      "source": [
        "spam ={'caat': 133, 11: 'cat', 'cat': {'cat': 111}, 'color': 'black'}"
      ],
      "metadata": {
        "id": "qN3rg1aho4PM"
      },
      "execution_count": 83,
      "outputs": []
    },
    {
      "cell_type": "code",
      "source": [
        "l = []\n",
        "for i in spam.keys():\n",
        "  if type(spam[i]) == dict:\n",
        "    l.append(spam[i].values())"
      ],
      "metadata": {
        "id": "mnn08EPdoJzq"
      },
      "execution_count": 92,
      "outputs": []
    },
    {
      "cell_type": "code",
      "source": [
        "l"
      ],
      "metadata": {
        "colab": {
          "base_uri": "https://localhost:8080/"
        },
        "id": "xjy0IxykomLx",
        "outputId": "631b2d29-9454-4ad6-b22d-7b3e973ad4de"
      },
      "execution_count": 93,
      "outputs": [
        {
          "output_type": "execute_result",
          "data": {
            "text/plain": [
              "[dict_values([111])]"
            ]
          },
          "metadata": {},
          "execution_count": 93
        }
      ]
    },
    {
      "cell_type": "code",
      "source": [],
      "metadata": {
        "id": "04_cIzvcqWbz"
      },
      "execution_count": null,
      "outputs": []
    }
  ]
}