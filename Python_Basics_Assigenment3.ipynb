{
  "nbformat": 4,
  "nbformat_minor": 0,
  "metadata": {
    "colab": {
      "provenance": []
    },
    "kernelspec": {
      "name": "python3",
      "display_name": "Python 3"
    },
    "language_info": {
      "name": "python"
    }
  },
  "cells": [
    {
      "cell_type": "markdown",
      "source": [
        "1. Why are functions advantageous to have in your programs?"
      ],
      "metadata": {
        "id": "rNrFP-cVOGCR"
      }
    },
    {
      "cell_type": "code",
      "execution_count": null,
      "metadata": {
        "id": "QieA84RyNZq8"
      },
      "outputs": [],
      "source": [
        "#reusablity of preexisting codes for better productivity"
      ]
    },
    {
      "cell_type": "markdown",
      "source": [
        "When does the code in a function run: when it&#39;s specified or when it&#39;s called?"
      ],
      "metadata": {
        "id": "Utr0IugFOWkA"
      }
    },
    {
      "cell_type": "code",
      "source": [
        "def test1():\n",
        "  return(a+b)"
      ],
      "metadata": {
        "id": "VVxlgO5nOWGg"
      },
      "execution_count": 1,
      "outputs": []
    },
    {
      "cell_type": "code",
      "source": [
        "test1 #test1 is specified"
      ],
      "metadata": {
        "colab": {
          "base_uri": "https://localhost:8080/"
        },
        "id": "UZzoXjvjOtCj",
        "outputId": "14bb256b-62c3-4f00-f705-3f0dd5dd32c0"
      },
      "execution_count": 3,
      "outputs": [
        {
          "output_type": "execute_result",
          "data": {
            "text/plain": [
              "<function __main__.test1()>"
            ]
          },
          "metadata": {},
          "execution_count": 3
        }
      ]
    },
    {
      "cell_type": "code",
      "source": [
        "#@test1 to call it we have to use pie with other function"
      ],
      "metadata": {
        "id": "ECSuXNeuO1No"
      },
      "execution_count": 5,
      "outputs": []
    },
    {
      "cell_type": "markdown",
      "source": [
        "What statement creates a function?"
      ],
      "metadata": {
        "id": "4734OQJ6Pg7x"
      }
    },
    {
      "cell_type": "code",
      "source": [
        "#statement starting from def and contains specified *args,**kwargs to make it work with every arguments"
      ],
      "metadata": {
        "id": "e53N8K5RPFiJ"
      },
      "execution_count": null,
      "outputs": []
    },
    {
      "cell_type": "markdown",
      "source": [
        "What is the difference between a function and a function call?"
      ],
      "metadata": {
        "id": "mBBD9476P75A"
      }
    },
    {
      "cell_type": "code",
      "source": [
        "#major difference is function call is for particular task and function is for universal problems solution"
      ],
      "metadata": {
        "id": "MkF4rsk_QAn5"
      },
      "execution_count": null,
      "outputs": []
    },
    {
      "cell_type": "markdown",
      "source": [
        "How many global scopes are there in a Python program? How many local scopes?"
      ],
      "metadata": {
        "id": "Oc5CTcbYQWAC"
      }
    },
    {
      "cell_type": "code",
      "source": [
        "#only 1 scope per program"
      ],
      "metadata": {
        "id": "R4YCwvuSQaph"
      },
      "execution_count": null,
      "outputs": []
    },
    {
      "cell_type": "markdown",
      "source": [
        "What happens to variables in a local scope when the function call returns?"
      ],
      "metadata": {
        "id": "Hk_UMpK2RFSZ"
      }
    },
    {
      "cell_type": "code",
      "source": [
        "l= 10\n",
        "def test2(*a):\n",
        "  def test3():\n",
        "    return l"
      ],
      "metadata": {
        "id": "pTxqNKNRKT1n"
      },
      "execution_count": 1,
      "outputs": []
    },
    {
      "cell_type": "code",
      "source": [
        "l"
      ],
      "metadata": {
        "colab": {
          "base_uri": "https://localhost:8080/"
        },
        "id": "F7f-ZiiOKYp2",
        "outputId": "a50ea000-3cde-47ba-a246-5e7281c5bc9a"
      },
      "execution_count": 3,
      "outputs": [
        {
          "output_type": "execute_result",
          "data": {
            "text/plain": [
              "10"
            ]
          },
          "metadata": {},
          "execution_count": 3
        }
      ]
    },
    {
      "cell_type": "code",
      "source": [
        "l= 10\n",
        "def test2(*a):\n",
        "  def test3():\n",
        "  global\n",
        "    l = 5\n",
        "    return l"
      ],
      "metadata": {
        "colab": {
          "base_uri": "https://localhost:8080/",
          "height": 130
        },
        "id": "3vg23ZuyKeAg",
        "outputId": "0c03a673-c5a1-4ed7-b649-1c52304fc8fa"
      },
      "execution_count": 7,
      "outputs": [
        {
          "output_type": "error",
          "ename": "IndentationError",
          "evalue": "ignored",
          "traceback": [
            "\u001b[0;36m  File \u001b[0;32m\"<ipython-input-7-f1e4db642d9b>\"\u001b[0;36m, line \u001b[0;32m4\u001b[0m\n\u001b[0;31m    global\u001b[0m\n\u001b[0m    ^\u001b[0m\n\u001b[0;31mIndentationError\u001b[0m\u001b[0;31m:\u001b[0m expected an indented block\n"
          ]
        }
      ]
    },
    {
      "cell_type": "code",
      "source": [
        "l"
      ],
      "metadata": {
        "colab": {
          "base_uri": "https://localhost:8080/"
        },
        "id": "RmPjcSCUKi_v",
        "outputId": "2cc2a855-d5d0-40a0-ebda-48262d5ecf74"
      },
      "execution_count": 5,
      "outputs": [
        {
          "output_type": "execute_result",
          "data": {
            "text/plain": [
              "10"
            ]
          },
          "metadata": {},
          "execution_count": 5
        }
      ]
    },
    {
      "cell_type": "code",
      "source": [
        "l= 10\n",
        "def test2():\n",
        "  l = 12\n",
        "  test3():\n",
        "  (l)"
      ],
      "metadata": {
        "colab": {
          "base_uri": "https://localhost:8080/",
          "height": 130
        },
        "id": "FB-lpkU7Y2yU",
        "outputId": "b6a7c039-2c47-48fb-d90a-1fa7f9324ed2"
      },
      "execution_count": 24,
      "outputs": [
        {
          "output_type": "error",
          "ename": "SyntaxError",
          "evalue": "ignored",
          "traceback": [
            "\u001b[0;36m  File \u001b[0;32m\"<ipython-input-24-b5cc4c0f24e0>\"\u001b[0;36m, line \u001b[0;32m4\u001b[0m\n\u001b[0;31m    test3():\u001b[0m\n\u001b[0m            ^\u001b[0m\n\u001b[0;31mSyntaxError\u001b[0m\u001b[0;31m:\u001b[0m invalid syntax\n"
          ]
        }
      ]
    },
    {
      "cell_type": "code",
      "source": [
        "test2(test3)"
      ],
      "metadata": {
        "colab": {
          "base_uri": "https://localhost:8080/",
          "height": 165
        },
        "id": "9TCnCldmY3L0",
        "outputId": "0ebd2bf3-f947-4299-eafa-d92122c7ba26"
      },
      "execution_count": 20,
      "outputs": [
        {
          "output_type": "error",
          "ename": "NameError",
          "evalue": "ignored",
          "traceback": [
            "\u001b[0;31m---------------------------------------------------------------------------\u001b[0m",
            "\u001b[0;31mNameError\u001b[0m                                 Traceback (most recent call last)",
            "\u001b[0;32m<ipython-input-20-01e86a6c373d>\u001b[0m in \u001b[0;36m<cell line: 1>\u001b[0;34m()\u001b[0m\n\u001b[0;32m----> 1\u001b[0;31m \u001b[0mtest2\u001b[0m\u001b[0;34m(\u001b[0m\u001b[0mtest3\u001b[0m\u001b[0;34m)\u001b[0m\u001b[0;34m\u001b[0m\u001b[0;34m\u001b[0m\u001b[0m\n\u001b[0m",
            "\u001b[0;31mNameError\u001b[0m: name 'test3' is not defined"
          ]
        }
      ]
    },
    {
      "cell_type": "markdown",
      "source": [
        "What is the concept of a return value? Is it possible to have a return value in an expression?"
      ],
      "metadata": {
        "id": "Cp_vxVc2NOAp"
      }
    },
    {
      "cell_type": "code",
      "source": [
        "#return value is the output that comes at the end of the task , yes we can get return va"
      ],
      "metadata": {
        "id": "2hLE70w9Y3DV"
      },
      "execution_count": null,
      "outputs": []
    },
    {
      "cell_type": "markdown",
      "source": [
        "If a function does not have a return statement, what is the return value of a call to that function?"
      ],
      "metadata": {
        "id": "1xJNfp2JOS53"
      }
    },
    {
      "cell_type": "code",
      "source": [
        "#its teturn is none or we have to put print statement"
      ],
      "metadata": {
        "id": "tFTX3eIfOSrI"
      },
      "execution_count": null,
      "outputs": []
    },
    {
      "cell_type": "markdown",
      "source": [
        "How do you make a function variable refer to the global variable?"
      ],
      "metadata": {
        "id": "Y-2_4m7HO2Jh"
      }
    },
    {
      "cell_type": "code",
      "source": [
        "l = 10\n",
        "def test1(a):\n",
        "  l = l+50\n",
        "  m = 8"
      ],
      "metadata": {
        "id": "5sn45VptO1fI"
      },
      "execution_count": 60,
      "outputs": []
    },
    {
      "cell_type": "code",
      "source": [
        "test1()"
      ],
      "metadata": {
        "colab": {
          "base_uri": "https://localhost:8080/",
          "height": 165
        },
        "id": "p9tdA0FMPU5w",
        "outputId": "3745ddcb-77c0-44ec-acf0-f011b922a42b"
      },
      "execution_count": 59,
      "outputs": [
        {
          "output_type": "error",
          "ename": "TypeError",
          "evalue": "ignored",
          "traceback": [
            "\u001b[0;31m---------------------------------------------------------------------------\u001b[0m",
            "\u001b[0;31mTypeError\u001b[0m                                 Traceback (most recent call last)",
            "\u001b[0;32m<ipython-input-59-51a57b51f630>\u001b[0m in \u001b[0;36m<cell line: 1>\u001b[0;34m()\u001b[0m\n\u001b[0;32m----> 1\u001b[0;31m \u001b[0mtest1\u001b[0m\u001b[0;34m(\u001b[0m\u001b[0;34m)\u001b[0m\u001b[0;34m\u001b[0m\u001b[0;34m\u001b[0m\u001b[0m\n\u001b[0m",
            "\u001b[0;31mTypeError\u001b[0m: test1() missing 1 required positional argument: 'a'"
          ]
        }
      ]
    },
    {
      "cell_type": "code",
      "source": [
        "#by adding global but i dont know where and how to do it"
      ],
      "metadata": {
        "id": "hoRv0sGxTcTa"
      },
      "execution_count": null,
      "outputs": []
    },
    {
      "cell_type": "markdown",
      "source": [
        "What is the data type of None?"
      ],
      "metadata": {
        "id": "Lz-LrxO5RwEb"
      }
    },
    {
      "cell_type": "code",
      "source": [
        "#print outcome will give nonetype none ype is datatype of none"
      ],
      "metadata": {
        "id": "RNb34eaeQ6Y5"
      },
      "execution_count": null,
      "outputs": []
    },
    {
      "cell_type": "markdown",
      "source": [
        "What does the sentence import areallyourpetsnamederic do?"
      ],
      "metadata": {
        "id": "M3ARA8CfR8cs"
      }
    },
    {
      "cell_type": "code",
      "source": [
        "#That import statement imports a module named areallyourpetsnamederic."
      ],
      "metadata": {
        "id": "A66DOfWLR15Z"
      },
      "execution_count": null,
      "outputs": []
    },
    {
      "cell_type": "markdown",
      "source": [
        "If you had a bacon() feature in a spam module, what would you call it after importing spam?"
      ],
      "metadata": {
        "id": "4i7pklJzTqJW"
      }
    },
    {
      "cell_type": "code",
      "source": [
        "#coppied #The function can be called with spam.bacon()."
      ],
      "metadata": {
        "id": "iSGYpRWCTpli"
      },
      "execution_count": null,
      "outputs": []
    },
    {
      "cell_type": "markdown",
      "source": [
        "  What can you do to save a programme from crashing if it encounters an error?"
      ],
      "metadata": {
        "id": "8eo2iFeeT9yS"
      }
    },
    {
      "cell_type": "code",
      "source": [
        "#coppied  Place the line of code that might cause an error in a try clause."
      ],
      "metadata": {
        "id": "c71exbMzUA_S"
      },
      "execution_count": null,
      "outputs": []
    },
    {
      "cell_type": "markdown",
      "source": [
        "What is the purpose of the try clause? What is the purpose of the except clause?"
      ],
      "metadata": {
        "id": "XFhWXTBrUOfC"
      }
    },
    {
      "cell_type": "code",
      "source": [
        "#coppied \n",
        "# The code that could potentially cause an error goes in the try clause.\n",
        "#The code that executes if an error happens goes in the except clause."
      ],
      "metadata": {
        "id": "a2MEnZCEUJ8p"
      },
      "execution_count": null,
      "outputs": []
    }
  ]
}