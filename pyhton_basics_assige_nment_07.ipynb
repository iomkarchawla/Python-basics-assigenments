{
  "nbformat": 4,
  "nbformat_minor": 0,
  "metadata": {
    "colab": {
      "provenance": []
    },
    "kernelspec": {
      "name": "python3",
      "display_name": "Python 3"
    },
    "language_info": {
      "name": "python"
    }
  },
  "cells": [
    {
      "cell_type": "markdown",
      "source": [
        "What is the name of the feature responsible for generating Regex objects?"
      ],
      "metadata": {
        "id": "IKTTAaP_fWFE"
      }
    },
    {
      "cell_type": "code",
      "execution_count": 3,
      "metadata": {
        "id": "uBM4JCZzfQDB"
      },
      "outputs": [],
      "source": [
        "#The re.compile() function returns Regex object"
      ]
    },
    {
      "cell_type": "markdown",
      "source": [
        "Why do raw strings often appear in Regex objects?"
      ],
      "metadata": {
        "id": "-2VCEgFEfzU_"
      }
    },
    {
      "cell_type": "code",
      "source": [
        "#Why do raw strings often appear in Regex objects?"
      ],
      "metadata": {
        "id": "ionH6a0BfU6B"
      },
      "execution_count": 4,
      "outputs": []
    },
    {
      "cell_type": "markdown",
      "source": [
        "3. What is the return value of the search() method?"
      ],
      "metadata": {
        "id": "W5X1uf_LgXwq"
      }
    },
    {
      "cell_type": "code",
      "source": [
        "#The search() method returns Match objects location"
      ],
      "metadata": {
        "id": "WoOkbRsTfvIX"
      },
      "execution_count": 5,
      "outputs": []
    },
    {
      "cell_type": "markdown",
      "source": [
        "4. From a Match item, how do you get the actual strings that match the pattern?"
      ],
      "metadata": {
        "id": "Xy6kwa_xgjpN"
      }
    },
    {
      "cell_type": "code",
      "source": [
        "#print(match.group())"
      ],
      "metadata": {
        "id": "cHOXugrkgjBK"
      },
      "execution_count": 6,
      "outputs": []
    },
    {
      "cell_type": "markdown",
      "source": [
        "5. In the regex which created from the r&#39;(\\d\\d\\d)-(\\d\\d\\d-\\d\\d\\d\\d)&#39;, what does group zero cover?\n",
        "Group 2? Group 1?"
      ],
      "metadata": {
        "id": "HadA1kuGg5wC"
      }
    },
    {
      "cell_type": "code",
      "source": [
        "#Group 0 is the entire match, group 1 covers the first set of parentheses, and group 2 covers the second set of parentheses"
      ],
      "metadata": {
        "id": "ntrLxID1gszV"
      },
      "execution_count": 7,
      "outputs": []
    },
    {
      "cell_type": "markdown",
      "source": [
        "6. In standard expression syntax, parentheses and intervals have distinct meanings. How can you tell\n",
        "a regex that you want it to fit real parentheses and periods?"
      ],
      "metadata": {
        "id": "e6V8mUnyhSTM"
      }
    },
    {
      "cell_type": "code",
      "source": [
        "#Periods and parentheses can be escaped with a backslash: \\., \\(, and \\)."
      ],
      "metadata": {
        "id": "Skcr4D5whR1A"
      },
      "execution_count": 8,
      "outputs": []
    },
    {
      "cell_type": "markdown",
      "source": [
        "The findall() method returns a string list or a list of string tuples. What causes it to return one of the two options?"
      ],
      "metadata": {
        "id": "7TxcFydkiEV_"
      }
    },
    {
      "cell_type": "code",
      "source": [
        " #If the regex has no groups, a list of strings is returned. If the regex has groups, a list of tuples of strings is returned."
      ],
      "metadata": {
        "id": "OomzJBGKiARD"
      },
      "execution_count": null,
      "outputs": []
    },
    {
      "cell_type": "markdown",
      "source": [
        "In standard expressions, what does the | character mean?"
      ],
      "metadata": {
        "id": "ixKChMqoi3ee"
      }
    },
    {
      "cell_type": "code",
      "source": [
        "#either or "
      ],
      "metadata": {
        "id": "gkhvQXF8i36l"
      },
      "execution_count": null,
      "outputs": []
    },
    {
      "cell_type": "markdown",
      "source": [
        "9. In regular expressions, what does the character stand for?"
      ],
      "metadata": {
        "id": "Op9hV91Wi_TQ"
      }
    },
    {
      "cell_type": "code",
      "source": [
        "#charaters stands for meta characters which are special case use to give special condition such as occurance of string start and end poing defining"
      ],
      "metadata": {
        "id": "xpeYg6ftjBjS"
      },
      "execution_count": 9,
      "outputs": []
    },
    {
      "cell_type": "markdown",
      "source": [
        "10.In regular expressions, what is the difference between the + and * characters?"
      ],
      "metadata": {
        "id": "Mi3bxZGxjdHN"
      }
    },
    {
      "cell_type": "code",
      "source": [
        "# +stand for occurance is 1 or more while 8 stands for occurance repeat 0 or more times"
      ],
      "metadata": {
        "id": "XF3mjNNUjbMW"
      },
      "execution_count": 11,
      "outputs": []
    },
    {
      "cell_type": "markdown",
      "source": [
        "15. What is the syntax for matching both numbers and lowercase letters with a character class?"
      ],
      "metadata": {
        "id": "rUpke5HEjrZ5"
      }
    },
    {
      "cell_type": "code",
      "source": [
        "#r\"\\w[a-z]\""
      ],
      "metadata": {
        "id": "eNJ2D9uKjnlS"
      },
      "execution_count": 14,
      "outputs": []
    },
    {
      "cell_type": "markdown",
      "source": [
        "16. What is the procedure for making a normal expression in regax case insensitive?"
      ],
      "metadata": {
        "id": "-NIuHedSkFVT"
      }
    },
    {
      "cell_type": "code",
      "source": [
        "#Passing re.I or re.IGNORECASE as the second argument to re.compile() will make the matching case insensitive."
      ],
      "metadata": {
        "id": "JvgxpW4MkDTh"
      },
      "execution_count": 15,
      "outputs": []
    },
    {
      "cell_type": "markdown",
      "source": [
        "17. What does the . character normally match? What does it match if re.DOTALL is passed as 2nd\n",
        "argument in re.compile()?"
      ],
      "metadata": {
        "id": "OxKhLEegkx2S"
      }
    },
    {
      "cell_type": "code",
      "source": [
        "#The . character normally matches any character except the newline character. If re.DOTALL is passed as the second argument to re.compile(), then the dot will also match newline characters."
      ],
      "metadata": {
        "id": "fpbxw7EJkxSH"
      },
      "execution_count": 16,
      "outputs": []
    },
    {
      "cell_type": "code",
      "source": [
        "import re"
      ],
      "metadata": {
        "id": "jktVPQtalllD"
      },
      "execution_count": 21,
      "outputs": []
    },
    {
      "cell_type": "code",
      "source": [
        "a = \"\"\"aman chawla hi charlie chappline\n",
        "i my me hi hhhhh okkk\"\"\""
      ],
      "metadata": {
        "id": "ZZCJ8gLblKQ6"
      },
      "execution_count": 26,
      "outputs": []
    },
    {
      "cell_type": "code",
      "source": [
        "match = re.search(r\"a.a\",a)\n",
        "print(match)"
      ],
      "metadata": {
        "colab": {
          "base_uri": "https://localhost:8080/"
        },
        "id": "A2fSH4L7lIo8",
        "outputId": "d0e6012d-5744-4f73-dcf1-261d0145cc68"
      },
      "execution_count": 32,
      "outputs": [
        {
          "output_type": "stream",
          "name": "stdout",
          "text": [
            "<re.Match object; span=(0, 3), match='ama'>\n"
          ]
        }
      ]
    },
    {
      "cell_type": "markdown",
      "source": [
        "If numReg = re.compile(r&#39;\\d+&#39;), what will numRegex.sub(&#39;X&#39;, &#39;11 drummers, 10 pipers, five rings, 4\n",
        "hen&#39;) return?"
      ],
      "metadata": {
        "id": "MCVUW0HSmTaH"
      }
    },
    {
      "cell_type": "code",
      "source": [
        "#numReg = re.compile(r'\\d+')\n",
        "#numRegex.sub('X', '11 drummers, 10 pipers, five rings, 4 hen')# sub function simply replace x with number as specified in comile by \\d"
      ],
      "metadata": {
        "id": "jJqCDSktnLcI"
      },
      "execution_count": 37,
      "outputs": []
    },
    {
      "cell_type": "code",
      "source": [
        "# 'X drummers, X pipers, five rings, X hens'"
      ],
      "metadata": {
        "id": "lta9deNCnzrF"
      },
      "execution_count": 38,
      "outputs": []
    },
    {
      "cell_type": "markdown",
      "source": [
        "19. What does passing re.VERBOSE as the 2nd argument to re.compile() allow to do?"
      ],
      "metadata": {
        "id": "PYgZtgFtnxt3"
      }
    },
    {
      "cell_type": "code",
      "source": [
        "#The re.VERBOSE argument allows you to add whitespace and comments to the string passed to re.compile()"
      ],
      "metadata": {
        "id": "aqTKZdI6nLYD"
      },
      "execution_count": null,
      "outputs": []
    },
    {
      "cell_type": "markdown",
      "source": [
        "20. How would you write a regex that match a number with comma for every three digits? It must\n",
        "match the given following:\n",
        "\n",
        "&#39;42&#39;\n",
        "&#39;1,234&#39;\n",
        "&#39;6,368,745&#39;"
      ],
      "metadata": {
        "id": "qiMXwFFuoKC1"
      }
    },
    {
      "cell_type": "code",
      "source": [
        "a = '42' "
      ],
      "metadata": {
        "id": "YpkZWzhOouEp"
      },
      "execution_count": 44,
      "outputs": []
    },
    {
      "cell_type": "code",
      "source": [
        "match = re.findall(r\"\\d+\",a)\n",
        "print(match)"
      ],
      "metadata": {
        "colab": {
          "base_uri": "https://localhost:8080/"
        },
        "id": "vIvD18YQoMvi",
        "outputId": "83e68ace-f0da-42c8-91f2-e67af5e55d87"
      },
      "execution_count": 45,
      "outputs": [
        {
          "output_type": "stream",
          "name": "stdout",
          "text": [
            "['42']\n"
          ]
        }
      ]
    },
    {
      "cell_type": "code",
      "source": [
        "b = '1,234' "
      ],
      "metadata": {
        "id": "wKajtSNxpBvp"
      },
      "execution_count": 47,
      "outputs": []
    },
    {
      "cell_type": "code",
      "source": [
        "match = re.findall(r\"(\\d{1},\\d{3})\",a)\n",
        "print(match)"
      ],
      "metadata": {
        "colab": {
          "base_uri": "https://localhost:8080/"
        },
        "id": "TovlIGTNnKHx",
        "outputId": "7338edbe-2c6e-491c-c2d1-8e108accfefa"
      },
      "execution_count": 59,
      "outputs": [
        {
          "output_type": "stream",
          "name": "stdout",
          "text": [
            "[]\n"
          ]
        }
      ]
    },
    {
      "cell_type": "markdown",
      "source": [
        "How would you write a regex that matches the full name of someone whose last name is Watanabe? You can assume that the first name that comes before it will always be one word that begins with a capital letter. The regex must match the following:\n",
        "\n",
        "'Haruto Watanabe'\n",
        "\n",
        "'Alice Watanabe'\n",
        "\n",
        "'RoboCop Watanabe'\n",
        "\n",
        "but not the following:\n",
        "\n",
        "'haruto Watanabe' (where the first name is not capitalized)\n",
        "\n",
        "'Mr. Watanabe' (where the preceding word has a nonletter character)\n",
        "\n",
        "'Watanabe' (which has no first name)\n",
        "\n",
        "'Haruto watanabe' (where Watanabe is not capitalized)"
      ],
      "metadata": {
        "id": "WkDU0DDZq2u2"
      }
    },
    {
      "cell_type": "code",
      "source": [
        "re.compile(r'[A-Z][a-z]*\\sWatanabe'"
      ],
      "metadata": {
        "id": "CTaCdZ8YnIub"
      },
      "execution_count": null,
      "outputs": []
    },
    {
      "cell_type": "markdown",
      "source": [
        "22. How would you write a regex that matches a sentence where the first word is either Alice, Bob,\n",
        "or Carol; the second word is either eats, pets, or throws; the third word is apples, cats, or baseballs;\n",
        "and the sentence ends with a period? This regex should be case-insensitive. It must match the\n",
        "following:\n",
        "&#39;Alice eats apples.&#39;\n",
        "&#39;Bob pets cats.&#39;\n",
        "&#39;Carol throws baseballs.&#39;\n",
        "&#39;Alice throws Apples.&#39;\n",
        "&#39;BOB EATS CATS.&#39;\n",
        "but not the following:\n",
        "&#39;RoboCop eats apples.&#39;\n",
        "&#39;ALICE THROWS FOOTBALLS.&#39;\n",
        "&#39;Carol eats 7 cats.&#39;"
      ],
      "metadata": {
        "id": "bnV-5eYysVzQ"
      }
    },
    {
      "cell_type": "code",
      "source": [
        "re.compile(r'(Alice|Bob|Carol)\\s(eats|pets|throws)\\ s(apples|cats|baseballs)\\.', re.IGNORECASE)"
      ],
      "metadata": {
        "colab": {
          "base_uri": "https://localhost:8080/"
        },
        "id": "IRnyxCQHsX4z",
        "outputId": "524714ca-68c1-41ae-d09d-c571fa199e74"
      },
      "execution_count": 60,
      "outputs": [
        {
          "output_type": "execute_result",
          "data": {
            "text/plain": [
              "re.compile(r'(Alice|Bob|Carol)\\s(eats|pets|throws)\\ s(apples|cats|baseballs)\\.',\n",
              "re.IGNORECASE|re.UNICODE)"
            ]
          },
          "metadata": {},
          "execution_count": 60
        }
      ]
    }
  ]
}