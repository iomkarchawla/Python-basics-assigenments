{
  "nbformat": 4,
  "nbformat_minor": 0,
  "metadata": {
    "colab": {
      "provenance": []
    },
    "kernelspec": {
      "name": "python3",
      "display_name": "Python 3"
    },
    "language_info": {
      "name": "python"
    }
  },
  "cells": [
    {
      "cell_type": "markdown",
      "source": [
        "1. Is the Python Standard Library included with PyInputPlus?"
      ],
      "metadata": {
        "id": "a8hyelhHbY2t"
      }
    },
    {
      "cell_type": "code",
      "execution_count": null,
      "metadata": {
        "colab": {
          "base_uri": "https://localhost:8080/"
        },
        "id": "lCr651qhbEd3",
        "outputId": "f3273c39-22bc-4cd4-c7e7-0019a11f1386"
      },
      "outputs": [
        {
          "output_type": "stream",
          "name": "stdout",
          "text": [
            "Looking in indexes: https://pypi.org/simple, https://us-python.pkg.dev/colab-wheels/public/simple/\n",
            "Requirement already satisfied: pyinputplus in /usr/local/lib/python3.10/dist-packages (0.2.12)\n",
            "Requirement already satisfied: pysimplevalidate>=0.2.7 in /usr/local/lib/python3.10/dist-packages (from pyinputplus) (0.2.12)\n",
            "Requirement already satisfied: stdiomask>=0.0.3 in /usr/local/lib/python3.10/dist-packages (from pyinputplus) (0.0.6)\n"
          ]
        }
      ],
      "source": [
        "pip install pyinputplus"
      ]
    },
    {
      "cell_type": "code",
      "source": [
        "import pyinputplus as pyip"
      ],
      "metadata": {
        "id": "st54qbMddo_0"
      },
      "execution_count": null,
      "outputs": []
    },
    {
      "cell_type": "code",
      "source": [
        "email = pyip.inputEmail(\"enter your email: \")"
      ],
      "metadata": {
        "colab": {
          "base_uri": "https://localhost:8080/"
        },
        "id": "zaU-EmRCgx1t",
        "outputId": "e1bed333-36d2-460d-9075-108b2d1f9da1"
      },
      "execution_count": null,
      "outputs": [
        {
          "name": "stdout",
          "output_type": "stream",
          "text": [
            "enter your email: aman.com\n",
            "'aman.com' is not a valid email address.\n",
            "enter your email: aman@gmail.com\n"
          ]
        }
      ]
    },
    {
      "cell_type": "markdown",
      "source": [
        "Is the Python Standard Library included with PyInputPlus?"
      ],
      "metadata": {
        "id": "Rgbilckrhk7T"
      }
    },
    {
      "cell_type": "code",
      "source": [
        "#no"
      ],
      "metadata": {
        "id": "0PaoP3lAhH3y"
      },
      "execution_count": null,
      "outputs": []
    },
    {
      "cell_type": "code",
      "source": [
        "import pyinputplus as pyip\n",
        "num = pyip.inputNum(\"Enter age: \",min=12, lessThan=18)"
      ],
      "metadata": {
        "colab": {
          "base_uri": "https://localhost:8080/"
        },
        "id": "4UGHl6xjhkSM",
        "outputId": "465f32e5-a28a-4f08-81ba-c1879b461d1f"
      },
      "execution_count": 34,
      "outputs": [
        {
          "name": "stdout",
          "output_type": "stream",
          "text": [
            "Enter age: 11\n",
            "Number must be at minimum 12.\n",
            "Enter age: 12\n"
          ]
        }
      ]
    },
    {
      "cell_type": "code",
      "source": [
        "num"
      ],
      "metadata": {
        "colab": {
          "base_uri": "https://localhost:8080/"
        },
        "id": "6FALBPiBiRTK",
        "outputId": "dcd2c39e-baae-48cd-e36a-f14d9e7600e7"
      },
      "execution_count": 35,
      "outputs": [
        {
          "output_type": "execute_result",
          "data": {
            "text/plain": [
              "12"
            ]
          },
          "metadata": {},
          "execution_count": 35
        }
      ]
    },
    {
      "cell_type": "markdown",
      "source": [
        "Why is PyInputPlus commonly imported with import pyinputplus as pypi?"
      ],
      "metadata": {
        "id": "Di4g4KqLkYNN"
      }
    },
    {
      "cell_type": "code",
      "source": [
        "#You can import the module with import pyinputplus as pyip so that you can enter a shorter name when calling the module’s functions"
      ],
      "metadata": {
        "id": "zH242N-TiWRK"
      },
      "execution_count": 36,
      "outputs": []
    },
    {
      "cell_type": "markdown",
      "source": [
        "How do you distinguish between inputInt() and inputFloat()?"
      ],
      "metadata": {
        "id": "_lZRIRK4k2Xz"
      }
    },
    {
      "cell_type": "code",
      "source": [
        "#The difference is in the data-type when you use the first one the program expects an integer value as input but in the latter it expects a float value i.e number containing a decimal"
      ],
      "metadata": {
        "id": "37b-mxa4kw1k"
      },
      "execution_count": 37,
      "outputs": []
    },
    {
      "cell_type": "markdown",
      "source": [
        "4. Using PyInputPlus, how do you ensure that the user enters a whole number between 0 and 99?"
      ],
      "metadata": {
        "id": "dxCJB6D4lCuz"
      }
    },
    {
      "cell_type": "code",
      "source": [
        "num = pyip.inputNum(\"enter a number: \" , min=0,max = 99)"
      ],
      "metadata": {
        "colab": {
          "base_uri": "https://localhost:8080/"
        },
        "id": "kIUyRgS4lCLT",
        "outputId": "228b5a19-471b-4e7c-cf1f-18044e1e6869"
      },
      "execution_count": 41,
      "outputs": [
        {
          "name": "stdout",
          "output_type": "stream",
          "text": [
            "enter a number: 100\n",
            "Number must be at maximum 99.\n",
            "enter a number: 99\n"
          ]
        }
      ]
    },
    {
      "cell_type": "markdown",
      "source": [
        "5. What is transferred to the keyword arguments allowRegexes and blockRegexes?"
      ],
      "metadata": {
        "id": "LweMjnwRlleL"
      }
    },
    {
      "cell_type": "code",
      "source": [
        "#We can also use regular expressions to specify whether an input is allowed or not. The allowRegexes and blockRegexes\n",
        "#keyword arguments take a list of regular expression strings to determine what the PyInputPlus function will accept or reject as valid input."
      ],
      "metadata": {
        "id": "vJh-vzyClfqc"
      },
      "execution_count": 43,
      "outputs": []
    },
    {
      "cell_type": "markdown",
      "source": [
        "6. If a blank input is entered three times, what does inputStr(limit=3) do?"
      ],
      "metadata": {
        "id": "pskbqlQenMjM"
      }
    },
    {
      "cell_type": "code",
      "source": [
        "password = pyip.inputStr(\"enter your password: \" ,limit =3)\n",
        "if password == pyip.inputStr(\"aman\"):\n",
        "  print(\"correct\")\n",
        "else:\n",
        "  print(\"incorrect\")#i dont know how to give limit into this"
      ],
      "metadata": {
        "colab": {
          "base_uri": "https://localhost:8080/"
        },
        "id": "4U_rzByOmy8U",
        "outputId": "a2bdde70-a463-4ad1-b6f1-646cc7aae960"
      },
      "execution_count": 53,
      "outputs": [
        {
          "output_type": "stream",
          "name": "stdout",
          "text": [
            "enter your password: 111\n",
            "aman1111\n",
            "incorrect\n"
          ]
        }
      ]
    },
    {
      "cell_type": "markdown",
      "source": [
        "7. If blank input is entered three times, what does inputStr(limit=3, default=&#39;hello&#39;) do?"
      ],
      "metadata": {
        "id": "AIaSqx00ob-t"
      }
    },
    {
      "cell_type": "code",
      "source": [
        "password = pyip.inputStr(\"enter your password: \" ,limit =3 , default = \"hello\")\n"
      ],
      "metadata": {
        "colab": {
          "base_uri": "https://localhost:8080/"
        },
        "id": "ln4a-2OAnkg9",
        "outputId": "64dc7a64-665e-4a33-f5f7-f557416e6297"
      },
      "execution_count": 57,
      "outputs": [
        {
          "name": "stdout",
          "output_type": "stream",
          "text": [
            "enter your password: 144\n"
          ]
        }
      ]
    },
    {
      "cell_type": "code",
      "source": [
        "password\n"
      ],
      "metadata": {
        "colab": {
          "base_uri": "https://localhost:8080/",
          "height": 35
        },
        "id": "EKSg2jBnoodc",
        "outputId": "7a82dfb2-be6a-425e-a010-312461f3ef24"
      },
      "execution_count": 59,
      "outputs": [
        {
          "output_type": "execute_result",
          "data": {
            "text/plain": [
              "'144'"
            ],
            "application/vnd.google.colaboratory.intrinsic+json": {
              "type": "string"
            }
          },
          "metadata": {},
          "execution_count": 59
        }
      ]
    },
    {
      "cell_type": "code",
      "source": [
        "response = pyip.inputStr(limit=3,default='hello')\n",
        "response"
      ],
      "metadata": {
        "colab": {
          "base_uri": "https://localhost:8080/",
          "height": 53
        },
        "id": "CKDTLmy8pQGT",
        "outputId": "2bc88b45-f47e-4449-f679-c5c262ecbabe"
      },
      "execution_count": 60,
      "outputs": [
        {
          "name": "stdout",
          "output_type": "stream",
          "text": [
            "122\n"
          ]
        },
        {
          "output_type": "execute_result",
          "data": {
            "text/plain": [
              "'122'"
            ],
            "application/vnd.google.colaboratory.intrinsic+json": {
              "type": "string"
            }
          },
          "metadata": {},
          "execution_count": 60
        }
      ]
    },
    {
      "cell_type": "code",
      "source": [],
      "metadata": {
        "id": "TFPq5I3lpd3M"
      },
      "execution_count": 60,
      "outputs": []
    }
  ]
}