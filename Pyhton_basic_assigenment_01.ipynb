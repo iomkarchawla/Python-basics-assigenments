{
  "nbformat": 4,
  "nbformat_minor": 0,
  "metadata": {
    "colab": {
      "provenance": [],
      "collapsed_sections": []
    },
    "kernelspec": {
      "name": "python3",
      "display_name": "Python 3"
    },
    "language_info": {
      "name": "python"
    }
  },
  "cells": [
    {
      "cell_type": "markdown",
      "source": [
        "Python Basics Assigenment 01\n"
      ],
      "metadata": {
        "id": "tNOK8bIoM5by"
      }
    },
    {
      "cell_type": "code",
      "execution_count": 1,
      "metadata": {
        "colab": {
          "base_uri": "https://localhost:8080/"
        },
        "id": "-EdOuvf7IR8z",
        "outputId": "ad66493a-5347-4fac-90df-3423a7e4da3e"
      },
      "outputs": [
        {
          "output_type": "execute_result",
          "data": {
            "text/plain": [
              "6"
            ]
          },
          "metadata": {},
          "execution_count": 1
        }
      ],
      "source": [
        "#'hello'\n",
        "#6"
      ]
    },
    {
      "cell_type": "code",
      "source": [
        "#string is the set of words which has to be written in (\"\") this notation while variable can never be denoted with this string can a value of a same variable aswell,\n"
      ],
      "metadata": {
        "id": "srfL0gVVNDkR"
      },
      "execution_count": 2,
      "outputs": []
    },
    {
      "cell_type": "code",
      "source": [
        "#string datatype - contains only contain set words as value which can only do operations with same data types and denoted with\n",
        "##symbol Str also stored on greater value in internal memory.\n",
        "\n",
        "#integer datatype- only contain numeric values not decimal not any complex variable symbol is int perform\n",
        "## operation with complex aswell as float variables on certain commands.\n",
        "\n",
        "#Float datatype - contains only float variables decimal value denoted with symbol float\n",
        "\n",
        "# list data type - conations all the variables is [] this bracket format can perform variety of operations also iterable in nature and perform slicing operations\n",
        "#tuple datatype -  conations all the variables is () used where we dont want the data to be itrated such as inputs from used , are not directly iterable or item assigement operations\n",
        "#dictinory datatype - contaions value in key value pair also perform operation acording format barckets are used {}. "
      ],
      "metadata": {
        "id": "kfrK6mBAN2ER"
      },
      "execution_count": null,
      "outputs": []
    },
    {
      "cell_type": "code",
      "source": [
        "#expresions are valid combination of operatiors or identifiers, expression \n",
        "##perform differt behaiovior on differt oerators for arthematic operators done with numbers while string expressions \n",
        "###are done with string variables logical are done with or and relational are when we use >=< or similar. modulo expressions contaion modulo operatorssuch as ==,!=,%"
      ],
      "metadata": {
        "id": "zSSvLMR2QzUW"
      },
      "execution_count": null,
      "outputs": []
    },
    {
      "cell_type": "code",
      "source": [
        " like_spam = 10 # statement\n",
        " like_spam == 10 # because we have used a modulo operator."
      ],
      "metadata": {
        "id": "mTVttQf7Umw-"
      },
      "execution_count": null,
      "outputs": []
    },
    {
      "cell_type": "code",
      "source": [
        "bacon = 22\n",
        "bacon + 1\n",
        "print(bacon)\n",
        "#bacon contain int thats why its performing operation "
      ],
      "metadata": {
        "colab": {
          "base_uri": "https://localhost:8080/"
        },
        "id": "HEZjMAP5VPdl",
        "outputId": "324e0319-7f9c-4305-d5c0-53ecd1b71226"
      },
      "execution_count": 25,
      "outputs": [
        {
          "output_type": "stream",
          "name": "stdout",
          "text": [
            "22\n"
          ]
        }
      ]
    },
    {
      "cell_type": "code",
      "source": [
        "\"spam\" +\"spamspam\"\n"
      ],
      "metadata": {
        "colab": {
          "base_uri": "https://localhost:8080/",
          "height": 36
        },
        "id": "r2jgKWDiVfld",
        "outputId": "53bb6240-a2ba-46f9-c776-a3f3ec0ce85e"
      },
      "execution_count": 29,
      "outputs": [
        {
          "output_type": "execute_result",
          "data": {
            "text/plain": [
              "'spamspamspam'"
            ],
            "application/vnd.google.colaboratory.intrinsic+json": {
              "type": "string"
            }
          },
          "metadata": {},
          "execution_count": 29
        }
      ]
    },
    {
      "cell_type": "code",
      "source": [
        "\"spam\"*3"
      ],
      "metadata": {
        "colab": {
          "base_uri": "https://localhost:8080/",
          "height": 36
        },
        "id": "nVH2uBkOWLGe",
        "outputId": "a6d42316-e9ed-47c5-d5a1-b9cc27297541"
      },
      "execution_count": 30,
      "outputs": [
        {
          "output_type": "execute_result",
          "data": {
            "text/plain": [
              "'spamspamspam'"
            ],
            "application/vnd.google.colaboratory.intrinsic+json": {
              "type": "string"
            }
          },
          "metadata": {},
          "execution_count": 30
        }
      ]
    },
    {
      "cell_type": "code",
      "source": [
        "#both have same values as string doing conanidation in 1st and multiplication in second"
      ],
      "metadata": {
        "id": "C6w3xgPEWVst"
      },
      "execution_count": 31,
      "outputs": []
    },
    {
      "cell_type": "code",
      "source": [
        "#100 can never be a variable name because a variable name has to starts with word "
      ],
      "metadata": {
        "id": "ZVd33JXHWhPt"
      },
      "execution_count": null,
      "outputs": []
    },
    {
      "cell_type": "code",
      "source": [
        "#int() for integer\n",
        "#float() for decimals\n",
        "#str() for string"
      ],
      "metadata": {
        "id": "8b9m5w6LWuR8"
      },
      "execution_count": null,
      "outputs": []
    },
    {
      "cell_type": "code",
      "source": [
        "#\"I have eaten\" + 99 +\" burritos\"\n",
        "# for making this code run we have to convert int into string \n",
        "\"i have eaten\" + \"99\" +\"burritos\""
      ],
      "metadata": {
        "colab": {
          "base_uri": "https://localhost:8080/",
          "height": 36
        },
        "id": "iNBPUrFKXJzU",
        "outputId": "3a691841-0eaa-433f-d44f-81dfbecf6d37"
      },
      "execution_count": 33,
      "outputs": [
        {
          "output_type": "execute_result",
          "data": {
            "text/plain": [
              "'i have eaten99burritos'"
            ],
            "application/vnd.google.colaboratory.intrinsic+json": {
              "type": "string"
            }
          },
          "metadata": {},
          "execution_count": 33
        }
      ]
    },
    {
      "cell_type": "code",
      "source": [],
      "metadata": {
        "id": "JamBptfZXpc1"
      },
      "execution_count": null,
      "outputs": []
    }
  ]
}